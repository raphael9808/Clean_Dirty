{
 "cells": [
  {
   "cell_type": "code",
   "execution_count": 55,
   "metadata": {},
   "outputs": [],
   "source": [
    "import os\n",
    "from PIL import Image\n",
    "\n",
    "import numpy as np\n",
    "import pandas as pd\n",
    "import torch\n",
    "import torch.nn as nn\n",
    "import torch.optim as optim\n",
    "import torchvision\n",
    "from torchvision import datasets, transforms, models\n",
    "from torch.utils.data import DataLoader, Dataset, random_split\n",
    "from torchvision.datasets import ImageFolder\n",
    "import matplotlib.pyplot as plt\n",
    "from sklearn.model_selection import train_test_split\n",
    "import copy"
   ]
  },
  {
   "cell_type": "code",
   "execution_count": 91,
   "metadata": {},
   "outputs": [],
   "source": [
    "weights = torchvision.models.ResNet50_Weights.DEFAULT\n",
    "model = torchvision.models.resnet50(weights=weights)"
   ]
  },
  {
   "cell_type": "code",
   "execution_count": 92,
   "metadata": {},
   "outputs": [
    {
     "name": "stdout",
     "output_type": "stream",
     "text": [
      "40\n"
     ]
    }
   ],
   "source": [
    "transform = weights.transforms()\n",
    "\n",
    "dataset = ImageFolder(root='/Users/maillet/Desktop/Clean_Dirty/data/train', transform = transform)\n",
    "print(len(dataset))"
   ]
  },
  {
   "cell_type": "code",
   "execution_count": 93,
   "metadata": {},
   "outputs": [],
   "source": [
    "train_size = int(0.8 * len(dataset))\n",
    "val_size = len(dataset) - train_size\n",
    "train_dataset, val_dataset = random_split(dataset, [train_size, val_size])\n",
    "batch_size = 64\n",
    "\n",
    "train_dataloader = DataLoader(dataset=train_dataset, batch_size=batch_size, shuffle=True)\n",
    "val_dataloader = DataLoader(dataset=val_dataset, batch_size=batch_size, shuffle=False)"
   ]
  },
  {
   "cell_type": "code",
   "execution_count": 94,
   "metadata": {},
   "outputs": [],
   "source": [
    "model.classifier = torch.nn.Sequential(torch.nn.Dropout(p=0.2, inplace=True),\n",
    "                                       torch.nn.Linear(in_features=1024,\n",
    "                                                       out_features=1,\n",
    "                                                       bias=True\n",
    "                                                      )\n",
    "                                      )\n",
    "\n",
    "device = torch.device('cuda' if torch.cuda.is_available() else 'cpu')\n",
    "model = model.to(device)"
   ]
  },
  {
   "cell_type": "code",
   "execution_count": 95,
   "metadata": {},
   "outputs": [],
   "source": [
    "def train_step(model, loader, criterion, optimizer, device):\n",
    "    model.train()\n",
    "    train_loss, correct_predictions, total_samples = 0, 0, 0\n",
    "    for batch in loader:\n",
    "        X,y = batch\n",
    "        X, y = X.to(device), y.to(device)\n",
    "        y_pred = model(X)\n",
    "        error = criterion(y_pred, y)\n",
    "        train_loss += error.item()\n",
    "\n",
    "        optimizer.zero_grad()\n",
    "\n",
    "        error.backward()\n",
    "\n",
    "        optimizer.step()\n",
    "\n",
    "        y_pred_class = torch.argmax(y_pred, dim=1)\n",
    "        correct_predictions += (y_pred_class == y).sum().item()\n",
    "        total_samples += len(y)\n",
    "    \n",
    "    avg_train_loss = train_loss / len(loader)\n",
    "    train_acc = correct_predictions / total_samples\n",
    "    return avg_train_loss, train_acc"
   ]
  },
  {
   "cell_type": "code",
   "execution_count": 96,
   "metadata": {},
   "outputs": [],
   "source": [
    "def test_step(model, loader, criterion, device):\n",
    "    model.eval()\n",
    "    test_loss, correct_predictions, total_samples = 0, 0, 0\n",
    "    with torch.no_grad():\n",
    "        for batch in loader:\n",
    "            X, y = batch\n",
    "            X, y = X.to(device), y.to(device)\n",
    "            y_pred = model(X)\n",
    "            error = criterion(y_pred, y)\n",
    "            test_loss += error.item()\n",
    "            y_pred_class = torch.argmax(y_pred, dim=1)\n",
    "            correct_predictions += (y_pred_class == y).sum().item()\n",
    "            total_samples += len(y)  \n",
    "    \n",
    "    avg_test_loss = test_loss / len(loader)\n",
    "    test_acc = correct_predictions / total_samples\n",
    "    return avg_test_loss, test_acc"
   ]
  },
  {
   "cell_type": "code",
   "execution_count": 97,
   "metadata": {},
   "outputs": [],
   "source": [
    "def fit(model, train_loader, optimizer, test_loader, criterion, device, epochs):\n",
    "    results = {\n",
    "        \"train_loss\": [],\n",
    "        \"train_acc\": [],\n",
    "        \"test_loss\": [],\n",
    "        \"test_acc\": []\n",
    "    }\n",
    "    for epoch in range(epochs):\n",
    "        avg_train_loss, train_acc = train_step(model, train_loader, criterion, optimizer, device)\n",
    "        avg_test_loss, test_acc = test_step(model, test_loader, criterion, device)\n",
    "        print(\n",
    "            f\"Epoch: {epoch+1} | \"\n",
    "            f\"train_loss: {avg_train_loss:.4f} | \"\n",
    "            f\"train_acc: {train_acc:.4f} | \"\n",
    "            f\"test_loss: {avg_test_loss:.4f} | \"\n",
    "            f\"test_acc: {test_acc:.4f}\"\n",
    "        )\n",
    "        results[\"train_loss\"].append(avg_train_loss)\n",
    "        results[\"train_acc\"].append(train_acc)\n",
    "        results[\"test_loss\"].append(avg_test_loss)\n",
    "        results[\"test_acc\"].append(test_acc)"
   ]
  },
  {
   "cell_type": "code",
   "execution_count": 98,
   "metadata": {},
   "outputs": [
    {
     "name": "stdout",
     "output_type": "stream",
     "text": [
      "Epoch: 1 | train_loss: 7.3051 | train_acc: 0.0000 | test_loss: 4.7316 | test_acc: 0.1250\n",
      "Epoch: 2 | train_loss: 4.7268 | train_acc: 0.3438 | test_loss: 2.2496 | test_acc: 0.5000\n",
      "Epoch: 3 | train_loss: 2.3069 | train_acc: 0.5938 | test_loss: 1.5806 | test_acc: 0.5000\n",
      "Epoch: 4 | train_loss: 0.8427 | train_acc: 0.9375 | test_loss: 1.2146 | test_acc: 0.5000\n",
      "Epoch: 5 | train_loss: 0.2794 | train_acc: 0.9688 | test_loss: 1.1625 | test_acc: 0.6250\n",
      "Epoch: 6 | train_loss: 0.0305 | train_acc: 1.0000 | test_loss: 1.0822 | test_acc: 0.7500\n",
      "Epoch: 7 | train_loss: 0.0085 | train_acc: 1.0000 | test_loss: 0.9512 | test_acc: 0.7500\n",
      "Epoch: 8 | train_loss: 0.0059 | train_acc: 1.0000 | test_loss: 0.8011 | test_acc: 0.8750\n",
      "Epoch: 9 | train_loss: 0.0032 | train_acc: 1.0000 | test_loss: 0.7457 | test_acc: 0.8750\n",
      "Epoch: 10 | train_loss: 0.0018 | train_acc: 1.0000 | test_loss: 0.7206 | test_acc: 0.8750\n",
      "Epoch: 11 | train_loss: 0.0011 | train_acc: 1.0000 | test_loss: 0.6877 | test_acc: 0.8750\n",
      "Epoch: 12 | train_loss: 0.0007 | train_acc: 1.0000 | test_loss: 0.6813 | test_acc: 0.7500\n",
      "Epoch: 13 | train_loss: 0.0005 | train_acc: 1.0000 | test_loss: 0.7250 | test_acc: 0.7500\n",
      "Epoch: 14 | train_loss: 0.0004 | train_acc: 1.0000 | test_loss: 0.7575 | test_acc: 0.7500\n",
      "Epoch: 15 | train_loss: 0.0003 | train_acc: 1.0000 | test_loss: 0.7467 | test_acc: 0.7500\n"
     ]
    }
   ],
   "source": [
    "criterion = nn.CrossEntropyLoss()\n",
    "optimizer = optim.Adam(model.parameters(), lr=0.001)\n",
    "epochs = 15\n",
    "fit(model, train_dataloader, optimizer, val_dataloader, criterion, device, epochs)"
   ]
  }
 ],
 "metadata": {
  "kernelspec": {
   "display_name": "Python 3",
   "language": "python",
   "name": "python3"
  },
  "language_info": {
   "codemirror_mode": {
    "name": "ipython",
    "version": 3
   },
   "file_extension": ".py",
   "mimetype": "text/x-python",
   "name": "python",
   "nbconvert_exporter": "python",
   "pygments_lexer": "ipython3",
   "version": "3.10.9"
  }
 },
 "nbformat": 4,
 "nbformat_minor": 2
}
